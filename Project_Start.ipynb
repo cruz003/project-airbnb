{
 "cells": [
  {
   "cell_type": "code",
   "execution_count": 2,
   "metadata": {},
   "outputs": [],
   "source": [
    "# Dependencies\n",
    "import pandas as pd\n",
    "import os\n",
    "import requests\n",
    "import json\n",
    "import gmaps\n",
    "from ipywidgets.embed import embed_minimal_html\n",
    "import matplotlib.pyplot as plt\n",
    "import numpy as np \n",
    "import datetime\n",
    "import warnings\n",
    "warnings.filterwarnings(\"ignore\")\n",
    "#Google developer API key\n",
    "from config import apikey\n",
    "#Configure gmaps\n",
    "gmaps.configure(api_key=apikey)\n",
    "\n",
    "#Function to clean data\n",
    "def clean_numbers(a):\n",
    "    a = a.str.strip('$').str.replace(',', '').astype(float)\n",
    "    return a"
   ]
  },
  {
   "cell_type": "code",
   "execution_count": 3,
   "metadata": {},
   "outputs": [],
   "source": [
    "# Store filepath in a variable\n",
    "file_one = \"./listings.csv\"\n",
    "file_two = \"./listings_calendar.csv\"\n",
    "# Read file\n",
    "file_one_df = pd.read_csv(file_one, encoding=\"ISO-8859-1\")\n",
    "file_two_df =  pd.read_csv(file_two, encoding=\"ISO-8859-1\")\n"
   ]
  },
  {
   "cell_type": "code",
   "execution_count": 4,
   "metadata": {
    "scrolled": true
   },
   "outputs": [],
   "source": [
    "#Remove useless columns\n",
    "clean_df = file_one_df[[\"id\",\"host_id\",\"host_name\", \"guests_included\",\"host_listings_count\",\"neighbourhood_cleansed\",\n",
    "                        \"zipcode\",\"latitude\",'longitude',\"property_type\",\"room_type\",\"accommodates\",\"bathrooms\",\n",
    "                        \"bedrooms\",\"beds\",\"square_feet\",\"price\",\"minimum_nights\",\"maximum_nights\",\"has_availability\",\n",
    "                        \"availability_365\",\"number_of_reviews\",\"review_scores_value\"]]"
   ]
  },
  {
   "cell_type": "code",
   "execution_count": 5,
   "metadata": {},
   "outputs": [],
   "source": [
    "#Data Cleansing\n",
    "\n",
    "#Rename some columns\n",
    "clean_df = clean_df.rename(columns={'neighbourhood_cleansed': 'neighbourhood'})\n",
    "\n",
    "#Rename Neighbourhoods\n",
    "clean_df[\"neighbourhood\"] = clean_df[\"neighbourhood\"].replace(\"Ward A (councilmember Denise Ridley)\",\"Greenville\")\n",
    "clean_df[\"neighbourhood\"] = clean_df[\"neighbourhood\"].replace(\"Ward B (councilmember Mira Prinz-Arey)\",\"West Side\")\n",
    "clean_df[\"neighbourhood\"] = clean_df[\"neighbourhood\"].replace(\"Ward C (councilmember Richard Boggiano)\",\"Journal Square\")\n",
    "clean_df[\"neighbourhood\"] = clean_df[\"neighbourhood\"].replace(\"Ward D (councilmember Michael Yun)\",\"Heights\")\n",
    "clean_df[\"neighbourhood\"] = clean_df[\"neighbourhood\"].replace(\"Ward E (councilmember James Solomon)\",\"Downtown\")\n",
    "clean_df[\"neighbourhood\"] = clean_df[\"neighbourhood\"].replace(\"Ward F (councilmember Jermaine D. Robinson)\",\"Bergen-Lafayette\")\n",
    "\n",
    "#Rename property types\n",
    "clean_df[\"property_type\"]= clean_df[\"property_type\"].replace(\"Aparthotel\", \"Hotel\")\n",
    "clean_df[\"property_type\"]= clean_df[\"property_type\"].replace(\"Boutique hotel\", \"Hotel\")\n",
    "clean_df[\"property_type\"]= clean_df[\"property_type\"].replace(\"Serviced apartment\", \"Apartment\")\n",
    "clean_df[\"property_type\"]= clean_df[\"property_type\"].replace(\"Condominium\", \"Apartment\")\n",
    "clean_df[\"property_type\"]= clean_df[\"property_type\"].replace(\"Bed and breakfast\", \"Apartment\")\n",
    "clean_df[\"property_type\"]= clean_df[\"property_type\"].replace(\"Guest suite\", \"Apartment\")\n",
    "clean_df[\"property_type\"]= clean_df[\"property_type\"].replace(\"Guesthouse\", \"Apartment\")\n",
    "clean_df[\"property_type\"]= clean_df[\"property_type\"].replace(\"Loft\", \"Apartment\")\n",
    "clean_df[\"property_type\"]= clean_df[\"property_type\"].replace(\"Tiny house\", \"House\")\n",
    "clean_df[\"property_type\"]= clean_df[\"property_type\"].replace(\"Cottage\", \"House\")\n",
    "clean_df[\"property_type\"]= clean_df[\"property_type\"].replace(\"Cabin\", \"House\")\n",
    "clean_df[\"property_type\"]= clean_df[\"property_type\"].replace(\"Dome house\", \"House\")\n",
    "clean_df[\"property_type\"]= clean_df[\"property_type\"].replace(\"Bungalow\", \"House\")\n",
    "clean_df[\"property_type\"]= clean_df[\"property_type\"].replace(\"Townhouse\", \"House\")\n",
    "clean_df[\"property_type\"]= clean_df[\"property_type\"].replace(\"Castle\", \"Other\")\n",
    "clean_df[\"property_type\"]= clean_df[\"property_type\"].replace(\"Hostel\", \"Other\")\n",
    "\n",
    "#Use datetime module to get day of week for each date\n",
    "file_two_df[\"date\"] = pd.to_datetime(file_two_df[\"date\"])\n",
    "file_two_df[\"day_of_week\"] = file_two_df[\"date\"].dt.day_name()\n",
    "\n",
    "#Call Function remove dollar signs, commas, and convert numbers to float for calculations\n",
    "file_two_df.price = clean_numbers(file_two_df.price)\n",
    "clean_df.price = clean_numbers(clean_df.price)"
   ]
  },
  {
   "cell_type": "code",
   "execution_count": 6,
   "metadata": {},
   "outputs": [
    {
     "data": {
      "image/png": "[encoded data removed]",
      "text/plain": [
       "<Figure size 432x288 with 1 Axes>"
      ]
     },
     "metadata": {
      "needs_background": "light"
     },
     "output_type": "display_data"
    },
    {
     "data": {
      "text/plain": [
       "<Figure size 432x288 with 0 Axes>"
      ]
     },
     "metadata": {},
     "output_type": "display_data"
    }
   ],
   "source": [
    "# Data Visualization 1: Number of Listings by Type\n",
    "clean_df.groupby(['property_type','room_type']).size().unstack().plot(kind='bar',stacked=True)\n",
    "plt.title(\"Number of Listings by Type\", fontsize=16)\n",
    "plt.ylabel(\"# of Listings\", fontsize=12)\n",
    "plt.xlabel(\"Property Type\", fontsize=12)\n",
    "plt.show()\n",
    "plt.savefig(os.path.join('./number_of_listings_by_room_type'))"
   ]
  },
  {
   "cell_type": "code",
   "execution_count": 7,
   "metadata": {},
   "outputs": [
    {
     "data": {
      "image/png": "[encoded data removed]",
      "text/plain": [
       "<Figure size 432x288 with 1 Axes>"
      ]
     },
     "metadata": {
      "needs_background": "light"
     },
     "output_type": "display_data"
    }
   ],
   "source": [
    "# Data Visualization 2: - Avg Rental Price by Day of Week\n",
    "#Create Dataframe\n",
    "listings_by_day = file_two_df.groupby(\"day_of_week\").price.mean().reset_index(0)\n",
    "listings_by_day.head()\n",
    "#Need to add sorting by day - -\n",
    "#Create Bar chart\n",
    "plt.bar(listings_by_day[\"day_of_week\"], listings_by_day[\"price\"], color=\"b\", align=\"center\")\n",
    "#Add Chart Titles and any formatting\n",
    "plt.title(\"Average Rental Price by day of Week\")\n",
    "plt.xlabel(\"Day of Week\")\n",
    "plt.xlim(.5, len(listings_by_day)-0.25)\n",
    "plt.savefig(os.path.join('./avg_rental_price_by_day'))\n",
    "plt.show()"
   ]
  },
  {
   "cell_type": "code",
   "execution_count": 8,
   "metadata": {},
   "outputs": [
    {
     "data": {
      "image/png": "[encoded data removed]",
      "text/plain": [
       "<Figure size 432x288 with 1 Axes>"
      ]
     },
     "metadata": {
      "needs_background": "light"
     },
     "output_type": "display_data"
    }
   ],
   "source": [
    "# Data Visualization 3: Neighborhood/Ward Bar Graph\n",
    "clean_df.groupby(['neighbourhood','room_type']).size().unstack().plot(kind='bar',stacked=False)\n",
    "plt.title(\"Number of Listings by Neighborhood\", fontsize=16)\n",
    "plt.ylabel(\"# of Listings\", fontsize=12)\n",
    "plt.xlabel(\"Property Type\", fontsize=12)\n",
    "plt.savefig(os.path.join('./number_of_listings_by_neighbourhood'))\n",
    "plt.show()"
   ]
  },
  {
   "cell_type": "code",
   "execution_count": 9,
   "metadata": {},
   "outputs": [
    {
     "data": {
      "image/png": "[encoded data removed]",
      "text/plain": [
       "<Figure size 432x288 with 1 Axes>"
      ]
     },
     "metadata": {},
     "output_type": "display_data"
    }
   ],
   "source": [
    "# Data Visualization 4: Percentage of Total Number of Listings by Neighborhood Pie Chart\n",
    "\n",
    "\n",
    "#Get percent of listings by neighbourhood\n",
    "total_listing_count = clean_df.id.nunique()\n",
    "ward_df = clean_df.groupby(\"neighbourhood\")\n",
    "ward_count = clean_df.groupby(\"neighbourhood\").id.nunique()\n",
    "percentage_by_ward = ward_count/total_listing_count * 100\n",
    "\n",
    "ward_chart = pd.DataFrame({\"Percentage of listings\": percentage_by_ward,\n",
    "                                      \"Total number of listings\": ward_count})\n",
    "# Set labels for pie chart\n",
    "labels = [\"Bergen-Lafayette\", \"Downtown\", \"Greenville\", \"Heights\", \"Journal Square\", \"West Side\"]\n",
    "sizes = ward_chart.loc[:,\"Percentage of listings\"]\n",
    "colors = [\"red\", \"aqua\", \"yellow\", \"blue\", \"purple\", \"maroon\"]\n",
    "explode = (0, 0, 0, 0, 0.1, 0)\n",
    "# Plot pie chart\n",
    "patches, texts = plt.pie(sizes, colors=colors, startangle=90)\n",
    "plt.legend(patches, labels, loc=\"best\")\n",
    "plt.pie(sizes, explode=explode, labels=labels, colors=colors, autopct=\"%1.1f%%\", shadow=True, startangle=140)\n",
    "plt.savefig(os.path.join('./pie_chart_neighbourhoods'))\n",
    "plt.show()"
   ]
  },
  {
   "cell_type": "code",
   "execution_count": 10,
   "metadata": {},
   "outputs": [
    {
     "data": {
      "application/vnd.jupyter.widget-view+json": {
       "model_id": "97e132b19daa4ebead0eee47af332ed8",
       "version_major": 2,
       "version_minor": 0
      },
      "text/plain": [
       "Figure(layout=FigureLayout(height='420px'))"
      ]
     },
     "metadata": {},
     "output_type": "display_data"
    }
   ],
   "source": [
    "# Data Visualization 5: Map of Listings\n",
    "# Store latitude and longitutde in locations\n",
    "locations = clean_df[[\"latitude\", \"longitude\"]]\n",
    "\n",
    "# Create Jersey City Map\n",
    "jersey_city_coordinates = (40.7178, -74.0431)\n",
    "jersey_city = gmaps.figure(center = jersey_city_coordinates, zoom_level=12)\n",
    "# Create Heat Layer\n",
    "heatmap_layer =  gmaps.heatmap_layer(locations)\n",
    "jersey_city.add_layer(heatmap_layer)\n",
    "jersey_city "
   ]
  },
  {
   "cell_type": "code",
   "execution_count": 11,
   "metadata": {},
   "outputs": [
    {
     "data": {
      "application/vnd.jupyter.widget-view+json": {
       "model_id": "a9bf03237398416c984af3c444bf44cc",
       "version_major": 2,
       "version_minor": 0
      },
      "text/plain": [
       "Figure(layout=FigureLayout(height='420px'))"
      ]
     },
     "metadata": {},
     "output_type": "display_data"
    }
   ],
   "source": [
    "# Data Visualization 6: Heatmap of Price of Listings\n",
    "# Store latitude and longitutde in locations\n",
    "# Create Jersey City Map\n",
    "price = clean_df[\"price\"]\n",
    "jersey_city_coordinates = (40.7178, -74.0431)\n",
    "jersey_city_price = gmaps.figure(center = jersey_city_coordinates, zoom_level=12)\n",
    "# Create Heat Layer\n",
    "heatmap_layer =  gmaps.heatmap_layer(locations, weights=price)\n",
    "jersey_city_price.add_layer(heatmap_layer)\n",
    "fig = gmaps.figure()\n",
    "embed_minimal_html('export.html', views=[fig])\n",
    "jersey_city_price"
   ]
  },
  {
   "cell_type": "code",
   "execution_count": null,
   "metadata": {},
   "outputs": [],
   "source": [
    "#Data Visualization 7: Map of Ward Popularity\n",
    "ward_a = clean_df.loc[clean_df[\"neighbourhood\"] == \"Greenville\"]\n",
    "ward_b = clean_df.loc[clean_df[\"neighbourhood\"] == \"West Side\"]\n",
    "ward_c = clean_df.loc[clean_df[\"neighbourhood\"] == \"Journal Square\"]\n",
    "ward_d = clean_df.loc[clean_df[\"neighbourhood\"] == \"Heights\"]\n",
    "ward_e = clean_df.loc[clean_df[\"neighbourhood\"] == \"Downtown\"]\n",
    "ward_f = clean_df.loc[clean_df[\"neighbourhood\"] == \"Bergen-Lafayette\"]\n",
    "# Create dataframe for coordinates for all listings by ward\n",
    "coordinates_a = ward_a[[\"latitude\", \"longitude\"]]\n",
    "coordinates_b = ward_b[[\"latitude\", \"longitude\"]]\n",
    "coordinates_c = ward_c[[\"latitude\", \"longitude\"]]\n",
    "coordinates_d = ward_d[[\"latitude\", \"longitude\"]]\n",
    "coordinates_e = ward_e[[\"latitude\", \"longitude\"]]\n",
    "coordinates_f = ward_f[[\"latitude\", \"longitude\"]]\n",
    "# Set Jersey City coordinates for gmaps\n",
    "jersey_city_coordinates = (40.7178, -74.0431)\n",
    "# Set layout for gmaps\n",
    "figure_layout = {\n",
    "    'width': '800px',\n",
    "    'height': '800px',\n",
    "    'border': '1px solid black'\n",
    "}\n",
    "# Plot coordinates by each ward color coded\n",
    "ward_map = gmaps.figure(center=jersey_city_coordinates, layout=figure_layout, zoom_level=13)\n",
    "markers_a = gmaps.symbol_layer(coordinates_a, fill_color='red', stroke_color='red', scale=1)\n",
    "markers_b = gmaps.symbol_layer(coordinates_b, fill_color='aqua', stroke_color='aqua', scale=1)\n",
    "markers_c = gmaps.symbol_layer(coordinates_c, fill_color='yellow', stroke_color='yellow', scale=1)\n",
    "markers_d = gmaps.symbol_layer(coordinates_d, fill_color='blue', stroke_color='blue', scale=1)\n",
    "markers_e = gmaps.symbol_layer(coordinates_e, fill_color='purple', stroke_color='purple', scale=1)\n",
    "markers_f = gmaps.symbol_layer(coordinates_f, fill_color='maroon', stroke_color='maroon', scale=1)\n",
    "ward_map.add_layer(markers_a)\n",
    "ward_map.add_layer(markers_b)\n",
    "ward_map.add_layer(markers_c)\n",
    "ward_map.add_layer(markers_d)\n",
    "ward_map.add_layer(markers_e)\n",
    "ward_map.add_layer(markers_f)\n",
    "ward_map\n"
   ]
  },
  {
   "cell_type": "code",
   "execution_count": null,
   "metadata": {},
   "outputs": [],
   "source": [
    "#Visualization 8: Breakdown of Neighborhood, Number of Listings and Average Price of Listings by Neighborhood\n",
    "\n",
    "listings = clean_df[['id', 'neighbourhood', 'property_type', 'room_type']]\n",
    "listings.rename(columns={\"id\": \"listing_id\"}, inplace=True)\n",
    "full_listings = pd.merge(file_two_df, listings, how=\"left\", on=[\"listing_id\"])\n",
    "avail_listings = full_listings[full_listings.available == 't']\n",
    "days_grpd = avail_listings.groupby(['neighbourhood', 'room_type'])\n",
    "nbr_of_listings = days_grpd['listing_id'].nunique()\n",
    "avg_price = days_grpd['price'].mean()\n",
    "listing_summary_table = pd.DataFrame({\"Number of Listings\": nbr_of_listings,\n",
    "                                     \"Avg. Price of Listings\": avg_price})\n",
    "listing_summary_table.style.bar(subset=['Number of Listings', 'Avg. Price of Listings'], color='#5F8BD6').format({\"Number of Listings\": \"{:.0f}\", \"Avg. Price of Listings\": \"${:.2f}\",\n",
    "                            \"% Passing Math\": \"{:.1%}\", \"% Passing Reading\": \"{:.1%}\", \"Overall Passing Rate\": \"{:.1%}\"})"
   ]
  },
  {
   "cell_type": "code",
   "execution_count": null,
   "metadata": {},
   "outputs": [],
   "source": [
    "# Left merge file_one_df with file_two_df \n",
    "merge_df = file_two_df.merge(file_one_df, left_on=\"listing_id\", right_on=\"id\")"
   ]
  },
  {
   "cell_type": "code",
   "execution_count": null,
   "metadata": {},
   "outputs": [],
   "source": [
    "# Create dataframe with only needed columns\n",
    "clean_merge_df = merge_df[[\"listing_id\", \"date\", \"available\", \"price_x\", \"adjusted_price\",\n",
    "                         \"minimum_nights_x\", \"maximum_nights_x\", \"day_of_week\", \"property_type\", \n",
    "                          \"accommodates\", \"bathrooms\", \"bedrooms\", \"price_y\", \"guests_included\", \"neighbourhood_cleansed\"]]\n",
    "\n",
    "# Rename columns\n",
    "clean_merge_df = clean_merge_df.rename(columns={\"price_x\": \"price_by_date\",\n",
    "                              \"minimum_nights_x\": \"minimum_nights\",\n",
    "                              \"maximum_nights_x\": \"maximum_nights\",\n",
    "                              \"price_y\":\"price\"})"
   ]
  },
  {
   "cell_type": "code",
   "execution_count": null,
   "metadata": {},
   "outputs": [],
   "source": [
    "# Create bin to re-categorize date by months\n",
    "bins = [datetime.datetime(2019, 9, 30), \n",
    "        datetime.datetime(2019, 10, 31), \n",
    "        datetime.datetime(2019, 11, 30), \n",
    "        datetime.datetime(2019, 12, 31), \n",
    "        datetime.datetime(2020, 1, 31), \n",
    "        datetime.datetime(2020, 2, 29), \n",
    "        datetime.datetime(2020, 3, 31), \n",
    "        datetime.datetime(2020, 4, 30), \n",
    "        datetime.datetime(2020, 5, 31), \n",
    "        datetime.datetime(2020, 6, 30), \n",
    "        datetime.datetime(2020, 7, 31), \n",
    "        datetime.datetime(2020, 8, 31), \n",
    "        datetime.datetime(2020, 9, 30)]\n",
    "\n",
    "# Create group names for new Month field\n",
    "group_names = [\"Oct 2019\", \"Nov 2019\", \"Dec 2019\", \"Jan 2020\", \"Feb 2020\", \"Mar 2020\", \"Apr 2020\", \"May 2020\", \"Jun 2020\",\n",
    "            \"July 2020\", \"Aug 2020\", \"Sept 2020\"]\n",
    "\n",
    "# Create new column \"month\" \n",
    "clean_merge_df[\"month\"] = pd.cut(clean_merge_df[\"date\"], bins, labels=group_names)"
   ]
  },
  {
   "cell_type": "code",
   "execution_count": null,
   "metadata": {},
   "outputs": [],
   "source": [
    "# Create dataframes by neightborhood type\n",
    "ward_a_price_df = clean_merge_df.loc[clean_merge_df[\"neighbourhood_cleansed\"] == \"Ward A (councilmember Denise Ridley)\"]\n",
    "ward_b_price_df = clean_merge_df.loc[clean_merge_df[\"neighbourhood_cleansed\"] == \"Ward B (councilmember Mira Prinz-Arey)\"]\n",
    "ward_c_price_df = clean_merge_df.loc[clean_merge_df[\"neighbourhood_cleansed\"] == \"Ward C (councilmember Richard Boggiano)\"]\n",
    "ward_d_price_df = clean_merge_df.loc[clean_merge_df[\"neighbourhood_cleansed\"] == \"Ward D (councilmember Michael Yun)\"]\n",
    "ward_e_price_df = clean_merge_df.loc[clean_merge_df[\"neighbourhood_cleansed\"] == \"Ward E (councilmember James Solomon)\"]\n",
    "ward_f_price_df = clean_merge_df.loc[clean_merge_df[\"neighbourhood_cleansed\"] == \"Ward F (councilmember Jermaine D. Robinson)\"]"
   ]
  },
  {
   "cell_type": "code",
   "execution_count": null,
   "metadata": {},
   "outputs": [],
   "source": [
    "# Calculate average price per listing by month for Ward A\n",
    "ward_a_oct_2019 = ward_a_price_df.loc[ward_a_price_df[\"month\"] == \"Oct 2019\"].price_by_date.mean()\n",
    "ward_a_nov_2019 = ward_a_price_df.loc[ward_a_price_df[\"month\"] == \"Nov 2019\"].price_by_date.mean()\n",
    "ward_a_dec_2019 = ward_a_price_df.loc[ward_a_price_df[\"month\"] == \"Dec 2019\"].price_by_date.mean()\n",
    "ward_a_jan_2020 = ward_a_price_df.loc[ward_a_price_df[\"month\"] == \"Jan 2020\"].price_by_date.mean()\n",
    "ward_a_feb_2020 = ward_a_price_df.loc[ward_a_price_df[\"month\"] == \"Feb 2020\"].price_by_date.mean()\n",
    "ward_a_mar_2020 = ward_a_price_df.loc[ward_a_price_df[\"month\"] == \"Mar 2020\"].price_by_date.mean()\n",
    "ward_a_apr_2020 = ward_a_price_df.loc[ward_a_price_df[\"month\"] == \"Apr 2020\"].price_by_date.mean()\n",
    "ward_a_may_2020 = ward_a_price_df.loc[ward_a_price_df[\"month\"] == \"May 2020\"].price_by_date.mean()\n",
    "ward_a_jun_2020 = ward_a_price_df.loc[ward_a_price_df[\"month\"] == \"Jun 2020\"].price_by_date.mean()\n",
    "ward_a_july_2020 = ward_a_price_df.loc[ward_a_price_df[\"month\"] == \"July 2020\"].price_by_date.mean()\n",
    "ward_a_aug_2020 = ward_a_price_df.loc[ward_a_price_df[\"month\"] == \"Aug 2020\"].price_by_date.mean()\n",
    "ward_a_sept_2020 = ward_a_price_df.loc[ward_a_price_df[\"month\"] == \"Sept 2020\"].price_by_date.mean()"
   ]
  },
  {
   "cell_type": "code",
   "execution_count": null,
   "metadata": {},
   "outputs": [],
   "source": [
    "# Calculate average price per listing by month for Ward B\n",
    "ward_b_oct_2019 = ward_b_price_df.loc[ward_b_price_df[\"month\"] == \"Oct 2019\"].price_by_date.mean()\n",
    "ward_b_nov_2019 = ward_b_price_df.loc[ward_b_price_df[\"month\"] == \"Nov 2019\"].price_by_date.mean()\n",
    "ward_b_dec_2019 = ward_b_price_df.loc[ward_b_price_df[\"month\"] == \"Dec 2019\"].price_by_date.mean()\n",
    "ward_b_jan_2020 = ward_b_price_df.loc[ward_b_price_df[\"month\"] == \"Jan 2020\"].price_by_date.mean()\n",
    "ward_b_feb_2020 = ward_b_price_df.loc[ward_b_price_df[\"month\"] == \"Feb 2020\"].price_by_date.mean()\n",
    "ward_b_mar_2020 = ward_b_price_df.loc[ward_b_price_df[\"month\"] == \"Mar 2020\"].price_by_date.mean()\n",
    "ward_b_apr_2020 = ward_b_price_df.loc[ward_b_price_df[\"month\"] == \"Apr 2020\"].price_by_date.mean()\n",
    "ward_b_may_2020 = ward_b_price_df.loc[ward_b_price_df[\"month\"] == \"May 2020\"].price_by_date.mean()\n",
    "ward_b_jun_2020 = ward_b_price_df.loc[ward_b_price_df[\"month\"] == \"Jun 2020\"].price_by_date.mean()\n",
    "ward_b_july_2020 = ward_b_price_df.loc[ward_b_price_df[\"month\"] == \"July 2020\"].price_by_date.mean()\n",
    "ward_b_aug_2020 = ward_b_price_df.loc[ward_b_price_df[\"month\"] == \"Aug 2020\"].price_by_date.mean()\n",
    "ward_b_sept_2020 = ward_b_price_df.loc[ward_b_price_df[\"month\"] == \"Sept 2020\"].price_by_date.mean()"
   ]
  },
  {
   "cell_type": "code",
   "execution_count": null,
   "metadata": {},
   "outputs": [],
   "source": [
    "# Calculate average price per listing by month for Ward C\n",
    "ward_c_oct_2019 = ward_c_price_df.loc[ward_c_price_df[\"month\"] == \"Oct 2019\"].price_by_date.mean()\n",
    "ward_c_nov_2019 = ward_c_price_df.loc[ward_c_price_df[\"month\"] == \"Nov 2019\"].price_by_date.mean()\n",
    "ward_c_dec_2019 = ward_c_price_df.loc[ward_c_price_df[\"month\"] == \"Dec 2019\"].price_by_date.mean()\n",
    "ward_c_jan_2020 = ward_c_price_df.loc[ward_c_price_df[\"month\"] == \"Jan 2020\"].price_by_date.mean()\n",
    "ward_c_feb_2020 = ward_c_price_df.loc[ward_c_price_df[\"month\"] == \"Feb 2020\"].price_by_date.mean()\n",
    "ward_c_mar_2020 = ward_c_price_df.loc[ward_c_price_df[\"month\"] == \"Mar 2020\"].price_by_date.mean()\n",
    "ward_c_apr_2020 = ward_c_price_df.loc[ward_c_price_df[\"month\"] == \"Apr 2020\"].price_by_date.mean()\n",
    "ward_c_may_2020 = ward_c_price_df.loc[ward_c_price_df[\"month\"] == \"May 2020\"].price_by_date.mean()\n",
    "ward_c_jun_2020 = ward_c_price_df.loc[ward_c_price_df[\"month\"] == \"Jun 2020\"].price_by_date.mean()\n",
    "ward_c_july_2020 = ward_c_price_df.loc[ward_c_price_df[\"month\"] == \"July 2020\"].price_by_date.mean()\n",
    "ward_c_aug_2020 = ward_c_price_df.loc[ward_c_price_df[\"month\"] == \"Aug 2020\"].price_by_date.mean()\n",
    "ward_c_sept_2020 = ward_c_price_df.loc[ward_c_price_df[\"month\"] == \"Sept 2020\"].price_by_date.mean()"
   ]
  },
  {
   "cell_type": "code",
   "execution_count": null,
   "metadata": {},
   "outputs": [],
   "source": [
    "# Calculate average price per listing by month for Ward D\n",
    "ward_d_oct_2019 = ward_d_price_df.loc[ward_d_price_df[\"month\"] == \"Oct 2019\"].price_by_date.mean()\n",
    "ward_d_nov_2019 = ward_d_price_df.loc[ward_d_price_df[\"month\"] == \"Nov 2019\"].price_by_date.mean()\n",
    "ward_d_dec_2019 = ward_d_price_df.loc[ward_d_price_df[\"month\"] == \"Dec 2019\"].price_by_date.mean()\n",
    "ward_d_jan_2020 = ward_d_price_df.loc[ward_d_price_df[\"month\"] == \"Jan 2020\"].price_by_date.mean()\n",
    "ward_d_feb_2020 = ward_d_price_df.loc[ward_d_price_df[\"month\"] == \"Feb 2020\"].price_by_date.mean()\n",
    "ward_d_mar_2020 = ward_d_price_df.loc[ward_d_price_df[\"month\"] == \"Mar 2020\"].price_by_date.mean()\n",
    "ward_d_apr_2020 = ward_d_price_df.loc[ward_d_price_df[\"month\"] == \"Apr 2020\"].price_by_date.mean()\n",
    "ward_d_may_2020 = ward_d_price_df.loc[ward_d_price_df[\"month\"] == \"May 2020\"].price_by_date.mean()\n",
    "ward_d_jun_2020 = ward_d_price_df.loc[ward_d_price_df[\"month\"] == \"Jun 2020\"].price_by_date.mean()\n",
    "ward_d_july_2020 = ward_d_price_df.loc[ward_d_price_df[\"month\"] == \"July 2020\"].price_by_date.mean()\n",
    "ward_d_aug_2020 = ward_d_price_df.loc[ward_d_price_df[\"month\"] == \"Aug 2020\"].price_by_date.mean()\n",
    "ward_d_sept_2020 = ward_d_price_df.loc[ward_d_price_df[\"month\"] == \"Sept 2020\"].price_by_date.mean()"
   ]
  },
  {
   "cell_type": "code",
   "execution_count": null,
   "metadata": {},
   "outputs": [],
   "source": [
    "# Calculate average price per listing by month for Ward E\n",
    "ward_e_oct_2019 = ward_e_price_df.loc[ward_e_price_df[\"month\"] == \"Oct 2019\"].price_by_date.mean()\n",
    "ward_e_nov_2019 = ward_e_price_df.loc[ward_e_price_df[\"month\"] == \"Nov 2019\"].price_by_date.mean()\n",
    "ward_e_dec_2019 = ward_e_price_df.loc[ward_e_price_df[\"month\"] == \"Dec 2019\"].price_by_date.mean()\n",
    "ward_e_jan_2020 = ward_e_price_df.loc[ward_e_price_df[\"month\"] == \"Jan 2020\"].price_by_date.mean()\n",
    "ward_e_feb_2020 = ward_e_price_df.loc[ward_e_price_df[\"month\"] == \"Feb 2020\"].price_by_date.mean()\n",
    "ward_e_mar_2020 = ward_e_price_df.loc[ward_e_price_df[\"month\"] == \"Mar 2020\"].price_by_date.mean()\n",
    "ward_e_apr_2020 = ward_e_price_df.loc[ward_e_price_df[\"month\"] == \"Apr 2020\"].price_by_date.mean()\n",
    "ward_e_may_2020 = ward_e_price_df.loc[ward_e_price_df[\"month\"] == \"May 2020\"].price_by_date.mean()\n",
    "ward_e_jun_2020 = ward_e_price_df.loc[ward_e_price_df[\"month\"] == \"Jun 2020\"].price_by_date.mean()\n",
    "ward_e_july_2020 = ward_e_price_df.loc[ward_e_price_df[\"month\"] == \"July 2020\"].price_by_date.mean()\n",
    "ward_e_aug_2020 = ward_e_price_df.loc[ward_e_price_df[\"month\"] == \"Aug 2020\"].price_by_date.mean()\n",
    "ward_e_sept_2020 = ward_e_price_df.loc[ward_e_price_df[\"month\"] == \"Sept 2020\"].price_by_date.mean()"
   ]
  },
  {
   "cell_type": "code",
   "execution_count": null,
   "metadata": {},
   "outputs": [],
   "source": [
    "# Calculate average price per listing by month for Ward F\n",
    "ward_f_oct_2019 = ward_f_price_df.loc[ward_f_price_df[\"month\"] == \"Oct 2019\"].price_by_date.mean()\n",
    "ward_f_nov_2019 = ward_f_price_df.loc[ward_f_price_df[\"month\"] == \"Nov 2019\"].price_by_date.mean()\n",
    "ward_f_dec_2019 = ward_f_price_df.loc[ward_f_price_df[\"month\"] == \"Dec 2019\"].price_by_date.mean()\n",
    "ward_f_jan_2020 = ward_f_price_df.loc[ward_f_price_df[\"month\"] == \"Jan 2020\"].price_by_date.mean()\n",
    "ward_f_feb_2020 = ward_f_price_df.loc[ward_f_price_df[\"month\"] == \"Feb 2020\"].price_by_date.mean()\n",
    "ward_f_mar_2020 = ward_f_price_df.loc[ward_f_price_df[\"month\"] == \"Mar 2020\"].price_by_date.mean()\n",
    "ward_f_apr_2020 = ward_f_price_df.loc[ward_f_price_df[\"month\"] == \"Apr 2020\"].price_by_date.mean()\n",
    "ward_f_may_2020 = ward_f_price_df.loc[ward_f_price_df[\"month\"] == \"May 2020\"].price_by_date.mean()\n",
    "ward_f_jun_2020 = ward_f_price_df.loc[ward_f_price_df[\"month\"] == \"Jun 2020\"].price_by_date.mean()\n",
    "ward_f_july_2020 = ward_f_price_df.loc[ward_f_price_df[\"month\"] == \"July 2020\"].price_by_date.mean()\n",
    "ward_f_aug_2020 = ward_f_price_df.loc[ward_f_price_df[\"month\"] == \"Aug 2020\"].price_by_date.mean()\n",
    "ward_f_sept_2020 = ward_f_price_df.loc[ward_f_price_df[\"month\"] == \"Sept 2020\"].price_by_date.mean()"
   ]
  },
  {
   "cell_type": "code",
   "execution_count": null,
   "metadata": {},
   "outputs": [],
   "source": [
    "# Create lists of average price by month to plot on line graph\n",
    "ward_a_ave_price = [ward_a_oct_2019, ward_a_nov_2019, ward_a_dec_2019, ward_a_jan_2020, ward_a_feb_2020, \n",
    "                    ward_a_mar_2020, ward_a_apr_2020, ward_a_may_2020, ward_a_jun_2020, ward_a_july_2020,\n",
    "                   ward_a_aug_2020, ward_a_sept_2020]\n",
    "ward_b_ave_price = [ward_b_oct_2019, ward_b_nov_2019, ward_b_dec_2019, ward_b_jan_2020, ward_b_feb_2020, \n",
    "                    ward_b_mar_2020, ward_b_apr_2020, ward_b_may_2020, ward_b_jun_2020, ward_b_july_2020,\n",
    "                   ward_b_aug_2020, ward_b_sept_2020]\n",
    "ward_c_ave_price = [ward_c_oct_2019, ward_c_nov_2019, ward_c_dec_2019, ward_c_jan_2020, ward_c_feb_2020, \n",
    "                    ward_c_mar_2020, ward_c_apr_2020, ward_c_may_2020, ward_c_jun_2020, ward_c_july_2020,\n",
    "                   ward_c_aug_2020, ward_c_sept_2020]\n",
    "ward_d_ave_price = [ward_d_oct_2019, ward_d_nov_2019, ward_d_dec_2019, ward_d_jan_2020, ward_d_feb_2020, \n",
    "                    ward_d_mar_2020, ward_d_apr_2020, ward_d_may_2020, ward_d_jun_2020, ward_d_july_2020,\n",
    "                   ward_d_aug_2020, ward_d_sept_2020]\n",
    "ward_e_ave_price = [ward_e_oct_2019, ward_e_nov_2019, ward_e_dec_2019, ward_e_jan_2020, ward_e_feb_2020, \n",
    "                    ward_e_mar_2020, ward_e_apr_2020, ward_e_may_2020, ward_e_jun_2020, ward_e_july_2020,\n",
    "                   ward_e_aug_2020, ward_e_sept_2020]\n",
    "ward_f_ave_price = [ward_f_oct_2019, ward_f_nov_2019, ward_f_dec_2019, ward_f_jan_2020, ward_f_feb_2020, \n",
    "                    ward_f_mar_2020, ward_f_apr_2020, ward_f_may_2020, ward_f_jun_2020, ward_f_july_2020,\n",
    "                   ward_f_aug_2020, ward_f_sept_2020]"
   ]
  },
  {
   "cell_type": "code",
   "execution_count": null,
   "metadata": {},
   "outputs": [],
   "source": [
    "#Data Visualization 9: Average Price per Listing by Neighborhood (Avg. Price per Listing x Months)\n",
    "\n",
    "# Rearrange size of graph\n",
    "fig = plt.figure(figsize = (14,8))\n",
    "\n",
    "# Plot average price over months for each neighborhood and color code accordingly\n",
    "plt.plot(group_names, ward_a_ave_price, color=\"red\", label=\"Greenville\")\n",
    "plt.plot(group_names, ward_b_ave_price, color=\"green\", label=\"West Side\")\n",
    "plt.plot(group_names, ward_c_ave_price, color=\"black\", label=\"Journal Square\")\n",
    "plt.plot(group_names, ward_d_ave_price, color=\"blue\", label=\"Heights\")\n",
    "plt.plot(group_names, ward_e_ave_price, color=\"purple\", label=\"Downtown\")\n",
    "plt.plot(group_names, ward_f_ave_price, color=\"maroon\", label=\"Bergen-Lafayette\")\n",
    "\n",
    "# Create title of graph and labels for x and y axis\n",
    "plt.title('Average Price Per Listing by Neighborhood (Oct 2019 to Sept 2020)', fontdict = {'fontsize' : 25})\n",
    "plt.xlabel(\"Months\")\n",
    "plt.ylabel(\"Average Price Per Listing\")\n",
    "\n",
    "# Create gridlines and add legend\n",
    "plt.grid()\n",
    "plt.legend()\n",
    "plt.savefig(os.path.join('./average_price_per_listing_by_neighbourhood'))\n",
    "plt.show()"
   ]
  },
  {
   "cell_type": "code",
   "execution_count": null,
   "metadata": {},
   "outputs": [],
   "source": []
  },
  {
   "cell_type": "code",
   "execution_count": null,
   "metadata": {},
   "outputs": [],
   "source": []
  }
 ],
 "metadata": {
  "anaconda-cloud": {},
  "kernelspec": {
   "display_name": "Python 3",
   "language": "python",
   "name": "python3"
  },
  "language_info": {
   "codemirror_mode": {
    "name": "ipython",
    "version": 3
   },
   "file_extension": ".py",
   "mimetype": "text/x-python",
   "name": "python",
   "nbconvert_exporter": "python",
   "pygments_lexer": "ipython3",
   "version": "3.7.4"
  }
 },
 "nbformat": 4,
 "nbformat_minor": 2
}
