{
 "cells": [
  {
   "cell_type": "code",
   "execution_count": 1,
   "metadata": {},
   "outputs": [],
   "source": [
    "# Dependencies\n",
    "import pandas as pd\n",
    "import requests\n",
    "import json\n",
    "import gmaps\n",
    "import matplotlib.pyplot as plt\n",
    "import numpy as np\n",
    "import datetime\n",
    "\n",
    "\n",
    "# Google developer API key\n",
    "from config import gkey\n",
    "\n",
    "# Configure gmaps\n",
    "gmaps.configure(api_key=gkey)\n"
   ]
  },
  {
   "cell_type": "code",
   "execution_count": 2,
   "metadata": {},
   "outputs": [],
   "source": [
    "#Store filepath in a variable\n",
    "file_two = \"./listings_calendar.csv\""
   ]
  },
  {
   "cell_type": "code",
   "execution_count": 3,
   "metadata": {},
   "outputs": [],
   "source": [
    "#Read file\n",
    "file_two_df = pd.read_csv(file_two, encoding=\"ISO-8859-1\")"
   ]
  },
  {
   "cell_type": "code",
   "execution_count": 4,
   "metadata": {},
   "outputs": [
    {
     "data": {
      "text/html": [
       "<div>\n",
       "<style scoped>\n",
       "    .dataframe tbody tr th:only-of-type {\n",
       "        vertical-align: middle;\n",
       "    }\n",
       "\n",
       "    .dataframe tbody tr th {\n",
       "        vertical-align: top;\n",
       "    }\n",
       "\n",
       "    .dataframe thead th {\n",
       "        text-align: right;\n",
       "    }\n",
       "</style>\n",
       "<table border=\"1\" class=\"dataframe\">\n",
       "  <thead>\n",
       "    <tr style=\"text-align: right;\">\n",
       "      <th></th>\n",
       "      <th>listing_id</th>\n",
       "      <th>date</th>\n",
       "      <th>available</th>\n",
       "      <th>price</th>\n",
       "      <th>adjusted_price</th>\n",
       "      <th>minimum_nights</th>\n",
       "      <th>maximum_nights</th>\n",
       "    </tr>\n",
       "  </thead>\n",
       "  <tbody>\n",
       "    <tr>\n",
       "      <th>1102291</th>\n",
       "      <td>9343488</td>\n",
       "      <td>2020-09-24</td>\n",
       "      <td>t</td>\n",
       "      <td>$300.00</td>\n",
       "      <td>$300.00</td>\n",
       "      <td>1.0</td>\n",
       "      <td>1125.0</td>\n",
       "    </tr>\n",
       "    <tr>\n",
       "      <th>1102292</th>\n",
       "      <td>9343488</td>\n",
       "      <td>2020-09-25</td>\n",
       "      <td>t</td>\n",
       "      <td>$300.00</td>\n",
       "      <td>$300.00</td>\n",
       "      <td>1.0</td>\n",
       "      <td>1125.0</td>\n",
       "    </tr>\n",
       "    <tr>\n",
       "      <th>1102293</th>\n",
       "      <td>9343488</td>\n",
       "      <td>2020-09-26</td>\n",
       "      <td>t</td>\n",
       "      <td>$300.00</td>\n",
       "      <td>$300.00</td>\n",
       "      <td>1.0</td>\n",
       "      <td>1125.0</td>\n",
       "    </tr>\n",
       "    <tr>\n",
       "      <th>1102294</th>\n",
       "      <td>9343488</td>\n",
       "      <td>2020-09-27</td>\n",
       "      <td>t</td>\n",
       "      <td>$300.00</td>\n",
       "      <td>$300.00</td>\n",
       "      <td>1.0</td>\n",
       "      <td>1125.0</td>\n",
       "    </tr>\n",
       "    <tr>\n",
       "      <th>1102295</th>\n",
       "      <td>9343488</td>\n",
       "      <td>2020-09-28</td>\n",
       "      <td>t</td>\n",
       "      <td>$300.00</td>\n",
       "      <td>$300.00</td>\n",
       "      <td>1.0</td>\n",
       "      <td>1125.0</td>\n",
       "    </tr>\n",
       "  </tbody>\n",
       "</table>\n",
       "</div>"
      ],
      "text/plain": [
       "         listing_id        date available    price adjusted_price  \\\n",
       "1102291     9343488  2020-09-24         t  $300.00        $300.00   \n",
       "1102292     9343488  2020-09-25         t  $300.00        $300.00   \n",
       "1102293     9343488  2020-09-26         t  $300.00        $300.00   \n",
       "1102294     9343488  2020-09-27         t  $300.00        $300.00   \n",
       "1102295     9343488  2020-09-28         t  $300.00        $300.00   \n",
       "\n",
       "         minimum_nights  maximum_nights  \n",
       "1102291             1.0          1125.0  \n",
       "1102292             1.0          1125.0  \n",
       "1102293             1.0          1125.0  \n",
       "1102294             1.0          1125.0  \n",
       "1102295             1.0          1125.0  "
      ]
     },
     "execution_count": 4,
     "metadata": {},
     "output_type": "execute_result"
    }
   ],
   "source": [
    "file_two_df.tail()"
   ]
  },
  {
   "cell_type": "code",
   "execution_count": 5,
   "metadata": {},
   "outputs": [],
   "source": [
    "file_two_df[\"date\"] = pd.to_datetime(file_two_df[\"date\"])\n",
    "file_two_df[\"day_of_week\"] = file_two_df[\"date\"].dt.day_name()\n",
    "file_two_df['price'] = file_two_df['price'].astype(str)\n",
    "\n",
    "#file_two_df.head()\n",
    "\n",
    "file_two_df[\"price\"] = file_two_df[\"price\"].apply(lambda x: x.replace(\"$\",\"\"))\n",
    "file_two_df[\"price\"] = file_two_df[\"price\"].apply(lambda x: x.replace(\",\",\"\"))\n",
    "\n",
    "file_two_df['price'] = file_two_df['price'].astype(float)\n",
    "\n",
    "\n"
   ]
  },
  {
   "cell_type": "code",
   "execution_count": null,
   "metadata": {},
   "outputs": [],
   "source": []
  }
 ],
 "metadata": {
  "kernelspec": {
   "display_name": "Python 3",
   "language": "python",
   "name": "python3"
  },
  "language_info": {
   "codemirror_mode": {
    "name": "ipython",
    "version": 3
   },
   "file_extension": ".py",
   "mimetype": "text/x-python",
   "name": "python",
   "nbconvert_exporter": "python",
   "pygments_lexer": "ipython3",
   "version": "3.7.4"
  }
 },
 "nbformat": 4,
 "nbformat_minor": 2
}
